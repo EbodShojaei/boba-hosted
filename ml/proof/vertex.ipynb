{
 "cells": [
  {
   "cell_type": "code",
   "execution_count": 94,
   "metadata": {},
   "outputs": [
    {
     "name": "stderr",
     "output_type": "stream",
     "text": [
      "2025-02-04 11:49:29,652 -     INFO - mlb_pipeline - Loaded existing training and testing data.\n",
      "2025-02-04 11:49:29,652 -     INFO - mlb_pipeline - Loaded existing training and testing data.\n",
      "INFO:mlb_pipeline:Loaded existing training and testing data.\n"
     ]
    }
   ],
   "source": [
    "# Load the existing training and testing MLB data for the Vertex AI model to use"
   ]
  },
  {
   "cell_type": "code",
   "execution_count": 25,
   "metadata": {},
   "outputs": [
    {
     "name": "stderr",
     "output_type": "stream",
     "text": [
      "2025-02-04 04:47:43,323 -     INFO - mlb_pipeline - Uploaded temp/train_prepared.csv to gs://boba-bucket-1/training/train_prepared.csv\n",
      "2025-02-04 04:47:43,674 -     INFO - mlb_pipeline - Uploaded temp/test_prepared.csv to gs://boba-bucket-1/testing/test_prepared.csv\n",
      "2025-02-04 04:47:43,993 -     INFO - mlb_pipeline - Uploaded temp/milb_prepared.csv to gs://boba-bucket-1/predicting/milb_prepared.csv\n"
     ]
    }
   ],
   "source": [
    "# Upload the training and testing data to the Vertex AI bucket"
   ]
  },
  {
   "cell_type": "code",
   "execution_count": 34,
   "metadata": {},
   "outputs": [
    {
     "name": "stdout",
     "output_type": "stream",
     "text": [
      "Creating TabularDataset\n",
      "Create TabularDataset backing LRO: projects/202481191587/locations/us-central1/datasets/7941924769786494976/operations/6012298802390630400\n",
      "TabularDataset created. Resource name: projects/202481191587/locations/us-central1/datasets/7941924769786494976\n",
      "To use this TabularDataset in another session:\n",
      "ds = aiplatform.TabularDataset('projects/202481191587/locations/us-central1/datasets/7941924769786494976')\n",
      "No column transformations provided, so now retrieving columns from dataset in order to set default column transformations.\n",
      "The column transformation of type 'auto' was set for the following columns: ['stat.sacBunts', 'stat.atBats', 'stat.baseOnBalls', 'stat.catchersInterference', 'stat.stolenBases', 'stat.saves', 'stat.inheritedRunners', 'stat.sacFlies', 'stat.losses', 'stat.blownSaves', 'stat.triples', 'stat.holds', 'stat.wildPitches', 'stat.groundOuts', 'stat.gamesPlayed', 'stat.gamesFinished', 'stat.hits', 'stat.strikeOuts', 'stat.hitByPitch', 'stat.runs', 'stat.wins', 'stat.inheritedRunnersScored', 'stat.caughtStealing', 'stat.completeGames', 'stat.pickoffs', 'stat.inningsPitched', 'stat.battersFaced', 'stat.balks', 'stat.numberOfPitches', 'stat.saveOpportunities', 'stat.strikes', 'stat.airOuts', 'stat.gamesStarted', 'stat.shutouts', 'stat.earnedRuns', 'stat.intentionalWalks', 'stat.doubles', 'stat.homeRuns'].\n",
      "View Training:\n",
      "https://console.cloud.google.com/ai/platform/locations/us-central1/training/2137612748001902592?project=202481191587\n",
      "AutoMLTabularTrainingJob projects/202481191587/locations/us-central1/trainingPipelines/2137612748001902592 current state:\n",
      "2\n",
      "AutoMLTabularTrainingJob projects/202481191587/locations/us-central1/trainingPipelines/2137612748001902592 current state:\n",
      "2\n",
      "AutoMLTabularTrainingJob projects/202481191587/locations/us-central1/trainingPipelines/2137612748001902592 current state:\n",
      "2\n",
      "AutoMLTabularTrainingJob projects/202481191587/locations/us-central1/trainingPipelines/2137612748001902592 current state:\n",
      "2\n",
      "AutoMLTabularTrainingJob projects/202481191587/locations/us-central1/trainingPipelines/2137612748001902592 current state:\n",
      "2\n",
      "AutoMLTabularTrainingJob projects/202481191587/locations/us-central1/trainingPipelines/2137612748001902592 current state:\n",
      "3\n",
      "AutoMLTabularTrainingJob projects/202481191587/locations/us-central1/trainingPipelines/2137612748001902592 current state:\n",
      "3\n",
      "AutoMLTabularTrainingJob projects/202481191587/locations/us-central1/trainingPipelines/2137612748001902592 current state:\n",
      "3\n",
      "AutoMLTabularTrainingJob projects/202481191587/locations/us-central1/trainingPipelines/2137612748001902592 current state:\n",
      "3\n",
      "AutoMLTabularTrainingJob projects/202481191587/locations/us-central1/trainingPipelines/2137612748001902592 current state:\n",
      "3\n",
      "AutoMLTabularTrainingJob projects/202481191587/locations/us-central1/trainingPipelines/2137612748001902592 current state:\n",
      "3\n",
      "AutoMLTabularTrainingJob projects/202481191587/locations/us-central1/trainingPipelines/2137612748001902592 current state:\n",
      "3\n",
      "AutoMLTabularTrainingJob projects/202481191587/locations/us-central1/trainingPipelines/2137612748001902592 current state:\n",
      "3\n",
      "AutoMLTabularTrainingJob projects/202481191587/locations/us-central1/trainingPipelines/2137612748001902592 current state:\n",
      "3\n",
      "AutoMLTabularTrainingJob projects/202481191587/locations/us-central1/trainingPipelines/2137612748001902592 current state:\n",
      "3\n",
      "AutoMLTabularTrainingJob projects/202481191587/locations/us-central1/trainingPipelines/2137612748001902592 current state:\n",
      "3\n",
      "AutoMLTabularTrainingJob projects/202481191587/locations/us-central1/trainingPipelines/2137612748001902592 current state:\n",
      "3\n",
      "AutoMLTabularTrainingJob projects/202481191587/locations/us-central1/trainingPipelines/2137612748001902592 current state:\n",
      "3\n",
      "AutoMLTabularTrainingJob projects/202481191587/locations/us-central1/trainingPipelines/2137612748001902592 current state:\n",
      "3\n",
      "AutoMLTabularTrainingJob projects/202481191587/locations/us-central1/trainingPipelines/2137612748001902592 current state:\n",
      "3\n",
      "AutoMLTabularTrainingJob projects/202481191587/locations/us-central1/trainingPipelines/2137612748001902592 current state:\n",
      "3\n",
      "AutoMLTabularTrainingJob projects/202481191587/locations/us-central1/trainingPipelines/2137612748001902592 current state:\n",
      "3\n",
      "AutoMLTabularTrainingJob projects/202481191587/locations/us-central1/trainingPipelines/2137612748001902592 current state:\n",
      "3\n",
      "AutoMLTabularTrainingJob projects/202481191587/locations/us-central1/trainingPipelines/2137612748001902592 current state:\n",
      "3\n",
      "AutoMLTabularTrainingJob projects/202481191587/locations/us-central1/trainingPipelines/2137612748001902592 current state:\n",
      "3\n",
      "AutoMLTabularTrainingJob projects/202481191587/locations/us-central1/trainingPipelines/2137612748001902592 current state:\n",
      "3\n",
      "AutoMLTabularTrainingJob projects/202481191587/locations/us-central1/trainingPipelines/2137612748001902592 current state:\n",
      "3\n",
      "AutoMLTabularTrainingJob projects/202481191587/locations/us-central1/trainingPipelines/2137612748001902592 current state:\n",
      "3\n",
      "AutoMLTabularTrainingJob projects/202481191587/locations/us-central1/trainingPipelines/2137612748001902592 current state:\n",
      "3\n",
      "AutoMLTabularTrainingJob projects/202481191587/locations/us-central1/trainingPipelines/2137612748001902592 current state:\n",
      "3\n",
      "AutoMLTabularTrainingJob projects/202481191587/locations/us-central1/trainingPipelines/2137612748001902592 current state:\n",
      "3\n",
      "AutoMLTabularTrainingJob run completed. Resource name: projects/202481191587/locations/us-central1/trainingPipelines/2137612748001902592\n",
      "Model available at projects/202481191587/locations/us-central1/models/8178621585700159488\n"
     ]
    },
    {
     "name": "stderr",
     "output_type": "stream",
     "text": [
      "2025-02-04 08:33:24,552 -     INFO - mlb_pipeline - Model 'MLB_Pitching_WAR_Model' created and trained successfully.\n",
      "2025-02-04 08:33:24,552 -     INFO - mlb_pipeline - Model 'MLB_Pitching_WAR_Model' created and trained successfully.\n",
      "INFO:mlb_pipeline:Model 'MLB_Pitching_WAR_Model' created and trained successfully.\n"
     ]
    },
    {
     "ename": "AttributeError",
     "evalue": "'AutoMLTabularTrainingJob' object has no attribute 'batch_predict'",
     "output_type": "error",
     "traceback": [
      "\u001b[0;31m---------------------------------------------------------------------------\u001b[0m",
      "\u001b[0;31mAttributeError\u001b[0m                            Traceback (most recent call last)",
      "Cell \u001b[0;32mIn[34], line 60\u001b[0m\n\u001b[1;32m     57\u001b[0m MLB_TEST_OUTPUT_PREFIX \u001b[38;5;241m=\u001b[39m \u001b[38;5;124mf\u001b[39m\u001b[38;5;124m\"\u001b[39m\u001b[38;5;124mgs://\u001b[39m\u001b[38;5;132;01m{\u001b[39;00mBUCKET_ID\u001b[38;5;132;01m}\u001b[39;00m\u001b[38;5;124m/predicting/predictions/mlb_test_predictions\u001b[39m\u001b[38;5;124m\"\u001b[39m\n\u001b[1;32m     58\u001b[0m MILB_OUTPUT_PREFIX \u001b[38;5;241m=\u001b[39m \u001b[38;5;124mf\u001b[39m\u001b[38;5;124m\"\u001b[39m\u001b[38;5;124mgs://\u001b[39m\u001b[38;5;132;01m{\u001b[39;00mBUCKET_ID\u001b[38;5;132;01m}\u001b[39;00m\u001b[38;5;124m/predicting/predictions/milb_predictions\u001b[39m\u001b[38;5;124m\"\u001b[39m\n\u001b[0;32m---> 60\u001b[0m mlb_predictions \u001b[38;5;241m=\u001b[39m \u001b[43mbatch_predict\u001b[49m\u001b[43m(\u001b[49m\u001b[43mvertex_model\u001b[49m\u001b[43m,\u001b[49m\u001b[43m \u001b[49m\u001b[43mTEST_DATA_URI\u001b[49m\u001b[43m,\u001b[49m\u001b[43m \u001b[49m\u001b[43mMLB_TEST_OUTPUT_PREFIX\u001b[49m\u001b[43m)\u001b[49m\n\u001b[1;32m     61\u001b[0m milb_predictions \u001b[38;5;241m=\u001b[39m batch_predict(vertex_model, MILB_DATA_URI, MILB_OUTPUT_PREFIX)\n",
      "Cell \u001b[0;32mIn[34], line 36\u001b[0m, in \u001b[0;36mbatch_predict\u001b[0;34m(model, input_uri, output_uri_prefix, instance_count)\u001b[0m\n\u001b[1;32m     35\u001b[0m \u001b[38;5;28;01mdef\u001b[39;00m\u001b[38;5;250m \u001b[39m\u001b[38;5;21mbatch_predict\u001b[39m(model, input_uri, output_uri_prefix, instance_count\u001b[38;5;241m=\u001b[39m\u001b[38;5;241m1\u001b[39m):\n\u001b[0;32m---> 36\u001b[0m     batch_prediction_job \u001b[38;5;241m=\u001b[39m \u001b[43mmodel\u001b[49m\u001b[38;5;241;43m.\u001b[39;49m\u001b[43mbatch_predict\u001b[49m(\n\u001b[1;32m     37\u001b[0m         job_display_name\u001b[38;5;241m=\u001b[39m\u001b[38;5;124mf\u001b[39m\u001b[38;5;124m\"\u001b[39m\u001b[38;5;124mbatch_predict_\u001b[39m\u001b[38;5;132;01m{\u001b[39;00m\u001b[38;5;28mint\u001b[39m(time\u001b[38;5;241m.\u001b[39mtime())\u001b[38;5;132;01m}\u001b[39;00m\u001b[38;5;124m\"\u001b[39m,\n\u001b[1;32m     38\u001b[0m         gcs_source\u001b[38;5;241m=\u001b[39minput_uri,\n\u001b[1;32m     39\u001b[0m         gcs_destination_prefix\u001b[38;5;241m=\u001b[39moutput_uri_prefix,\n\u001b[1;32m     40\u001b[0m         machine_type\u001b[38;5;241m=\u001b[39m\u001b[38;5;124m\"\u001b[39m\u001b[38;5;124mn1-standard-4\u001b[39m\u001b[38;5;124m\"\u001b[39m,\n\u001b[1;32m     41\u001b[0m         instance_count\u001b[38;5;241m=\u001b[39minstance_count,\n\u001b[1;32m     42\u001b[0m     )\n\u001b[1;32m     44\u001b[0m     batch_prediction_job\u001b[38;5;241m.\u001b[39mwait()\n\u001b[1;32m     45\u001b[0m     logger\u001b[38;5;241m.\u001b[39minfo(\u001b[38;5;124mf\u001b[39m\u001b[38;5;124m\"\u001b[39m\u001b[38;5;124mBatch prediction completed for input \u001b[39m\u001b[38;5;132;01m{\u001b[39;00minput_uri\u001b[38;5;132;01m}\u001b[39;00m\u001b[38;5;124m\"\u001b[39m)\n",
      "\u001b[0;31mAttributeError\u001b[0m: 'AutoMLTabularTrainingJob' object has no attribute 'batch_predict'"
     ]
    }
   ],
   "source": [
    "# Train the Vertex AI model with the MLB training data"
   ]
  },
  {
   "cell_type": "code",
   "execution_count": 39,
   "metadata": {},
   "outputs": [
    {
     "name": "stderr",
     "output_type": "stream",
     "text": [
      "2025-02-04 08:58:17,340 -     INFO - mlb_pipeline - Loaded existing model: projects/202481191587/locations/us-central1/models/8178621585700159488\n",
      "2025-02-04 08:58:17,340 -     INFO - mlb_pipeline - Loaded existing model: projects/202481191587/locations/us-central1/models/8178621585700159488\n",
      "INFO:mlb_pipeline:Loaded existing model: projects/202481191587/locations/us-central1/models/8178621585700159488\n"
     ]
    },
    {
     "name": "stdout",
     "output_type": "stream",
     "text": [
      "Creating BatchPredictionJob\n",
      "BatchPredictionJob created. Resource name: projects/202481191587/locations/us-central1/batchPredictionJobs/3864145070772977664\n",
      "To use this BatchPredictionJob in another session:\n",
      "bpj = aiplatform.BatchPredictionJob('projects/202481191587/locations/us-central1/batchPredictionJobs/3864145070772977664')\n",
      "View Batch Prediction Job:\n",
      "https://console.cloud.google.com/ai/platform/locations/us-central1/batch-predictions/3864145070772977664?project=202481191587\n",
      "BatchPredictionJob projects/202481191587/locations/us-central1/batchPredictionJobs/3864145070772977664 current state:\n",
      "2\n",
      "BatchPredictionJob projects/202481191587/locations/us-central1/batchPredictionJobs/3864145070772977664 current state:\n",
      "2\n",
      "BatchPredictionJob projects/202481191587/locations/us-central1/batchPredictionJobs/3864145070772977664 current state:\n",
      "2\n",
      "BatchPredictionJob projects/202481191587/locations/us-central1/batchPredictionJobs/3864145070772977664 current state:\n",
      "2\n",
      "BatchPredictionJob projects/202481191587/locations/us-central1/batchPredictionJobs/3864145070772977664 current state:\n",
      "2\n",
      "BatchPredictionJob projects/202481191587/locations/us-central1/batchPredictionJobs/3864145070772977664 current state:\n",
      "3\n",
      "BatchPredictionJob projects/202481191587/locations/us-central1/batchPredictionJobs/3864145070772977664 current state:\n",
      "3\n",
      "BatchPredictionJob projects/202481191587/locations/us-central1/batchPredictionJobs/3864145070772977664 current state:\n",
      "3\n",
      "BatchPredictionJob projects/202481191587/locations/us-central1/batchPredictionJobs/3864145070772977664 current state:\n",
      "3\n",
      "BatchPredictionJob projects/202481191587/locations/us-central1/batchPredictionJobs/3864145070772977664 current state:\n",
      "4\n",
      "BatchPredictionJob run completed. Resource name: projects/202481191587/locations/us-central1/batchPredictionJobs/3864145070772977664\n"
     ]
    },
    {
     "name": "stderr",
     "output_type": "stream",
     "text": [
      "2025-02-04 09:21:40,281 -     INFO - mlb_pipeline - Batch prediction completed for input gs://boba-bucket-1/testing/test_prepared.csv\n",
      "2025-02-04 09:21:40,281 -     INFO - mlb_pipeline - Batch prediction completed for input gs://boba-bucket-1/testing/test_prepared.csv\n",
      "INFO:mlb_pipeline:Batch prediction completed for input gs://boba-bucket-1/testing/test_prepared.csv\n"
     ]
    },
    {
     "name": "stdout",
     "output_type": "stream",
     "text": [
      "Creating BatchPredictionJob\n",
      "BatchPredictionJob created. Resource name: projects/202481191587/locations/us-central1/batchPredictionJobs/5136974915458564096\n",
      "To use this BatchPredictionJob in another session:\n",
      "bpj = aiplatform.BatchPredictionJob('projects/202481191587/locations/us-central1/batchPredictionJobs/5136974915458564096')\n",
      "View Batch Prediction Job:\n",
      "https://console.cloud.google.com/ai/platform/locations/us-central1/batch-predictions/5136974915458564096?project=202481191587\n",
      "BatchPredictionJob projects/202481191587/locations/us-central1/batchPredictionJobs/5136974915458564096 current state:\n",
      "3\n",
      "BatchPredictionJob projects/202481191587/locations/us-central1/batchPredictionJobs/5136974915458564096 current state:\n",
      "3\n",
      "BatchPredictionJob projects/202481191587/locations/us-central1/batchPredictionJobs/5136974915458564096 current state:\n",
      "3\n",
      "BatchPredictionJob projects/202481191587/locations/us-central1/batchPredictionJobs/5136974915458564096 current state:\n",
      "3\n",
      "BatchPredictionJob projects/202481191587/locations/us-central1/batchPredictionJobs/5136974915458564096 current state:\n",
      "3\n",
      "BatchPredictionJob projects/202481191587/locations/us-central1/batchPredictionJobs/5136974915458564096 current state:\n",
      "3\n",
      "BatchPredictionJob projects/202481191587/locations/us-central1/batchPredictionJobs/5136974915458564096 current state:\n",
      "3\n",
      "BatchPredictionJob projects/202481191587/locations/us-central1/batchPredictionJobs/5136974915458564096 current state:\n",
      "3\n",
      "BatchPredictionJob projects/202481191587/locations/us-central1/batchPredictionJobs/5136974915458564096 current state:\n",
      "4\n",
      "BatchPredictionJob run completed. Resource name: projects/202481191587/locations/us-central1/batchPredictionJobs/5136974915458564096\n"
     ]
    },
    {
     "name": "stderr",
     "output_type": "stream",
     "text": [
      "2025-02-04 09:40:30,309 -     INFO - mlb_pipeline - Batch prediction completed for input gs://boba-bucket-1/predicting/milb_prepared.csv\n",
      "2025-02-04 09:40:30,309 -     INFO - mlb_pipeline - Batch prediction completed for input gs://boba-bucket-1/predicting/milb_prepared.csv\n",
      "INFO:mlb_pipeline:Batch prediction completed for input gs://boba-bucket-1/predicting/milb_prepared.csv\n"
     ]
    }
   ],
   "source": [
    "# Run the batch prediction job with the MLB (Major League) testing data\n",
    "# Also run the batch prediction job with the MiLB (Minor League) training data\n",
    "\n",
    "## This resolved the error for batch_predict in the previous cell"
   ]
  },
  {
   "cell_type": "code",
   "execution_count": 86,
   "metadata": {},
   "outputs": [
    {
     "name": "stderr",
     "output_type": "stream",
     "text": [
      "2025-02-04 11:42:07,871 -     INFO - mlb_pipeline - Searching for predictions in prefix: predicting/predictions/mlb_test_predictions\n",
      "2025-02-04 11:42:07,871 -     INFO - mlb_pipeline - Searching for predictions in prefix: predicting/predictions/mlb_test_predictions\n",
      "INFO:mlb_pipeline:Searching for predictions in prefix: predicting/predictions/mlb_test_predictions\n",
      "2025-02-04 11:42:07,878 -     INFO - mlb_pipeline - Found 3 files\n",
      "2025-02-04 11:42:07,878 -     INFO - mlb_pipeline - Found 3 files\n",
      "INFO:mlb_pipeline:Found 3 files\n",
      "2025-02-04 11:42:07,882 -     INFO - mlb_pipeline - Found file: predicting/predictions/mlb_test_predictions/prediction-MLB_Pitching_WAR_Model-2025_02_04T08_58_17_999Z/prediction.errors_stats-00000-of-00001\n",
      "2025-02-04 11:42:07,882 -     INFO - mlb_pipeline - Found file: predicting/predictions/mlb_test_predictions/prediction-MLB_Pitching_WAR_Model-2025_02_04T08_58_17_999Z/prediction.errors_stats-00000-of-00001\n",
      "INFO:mlb_pipeline:Found file: predicting/predictions/mlb_test_predictions/prediction-MLB_Pitching_WAR_Model-2025_02_04T08_58_17_999Z/prediction.errors_stats-00000-of-00001\n",
      "2025-02-04 11:42:07,883 -     INFO - mlb_pipeline - Found file: predicting/predictions/mlb_test_predictions/prediction-MLB_Pitching_WAR_Model-2025_02_04T08_58_17_999Z/prediction.results-00000-of-00002\n",
      "2025-02-04 11:42:07,883 -     INFO - mlb_pipeline - Found file: predicting/predictions/mlb_test_predictions/prediction-MLB_Pitching_WAR_Model-2025_02_04T08_58_17_999Z/prediction.results-00000-of-00002\n",
      "INFO:mlb_pipeline:Found file: predicting/predictions/mlb_test_predictions/prediction-MLB_Pitching_WAR_Model-2025_02_04T08_58_17_999Z/prediction.results-00000-of-00002\n",
      "2025-02-04 11:42:07,885 -     INFO - mlb_pipeline - Found file: predicting/predictions/mlb_test_predictions/prediction-MLB_Pitching_WAR_Model-2025_02_04T08_58_17_999Z/prediction.results-00001-of-00002\n",
      "2025-02-04 11:42:07,885 -     INFO - mlb_pipeline - Found file: predicting/predictions/mlb_test_predictions/prediction-MLB_Pitching_WAR_Model-2025_02_04T08_58_17_999Z/prediction.results-00001-of-00002\n",
      "INFO:mlb_pipeline:Found file: predicting/predictions/mlb_test_predictions/prediction-MLB_Pitching_WAR_Model-2025_02_04T08_58_17_999Z/prediction.results-00001-of-00002\n",
      "2025-02-04 11:42:07,886 -     INFO - mlb_pipeline - No direct CSV file found. Combining partitioned prediction result files...\n",
      "2025-02-04 11:42:07,886 -     INFO - mlb_pipeline - No direct CSV file found. Combining partitioned prediction result files...\n",
      "INFO:mlb_pipeline:No direct CSV file found. Combining partitioned prediction result files...\n",
      "2025-02-04 11:42:08,507 -     INFO - mlb_pipeline - Combined predictions saved to /Users/ebodshojaei/Documents/Development/projects/google-cloud-hackathon-2025/boba-services/google-automl/data/predicting/mlb_test_predictions.csv\n",
      "2025-02-04 11:42:08,507 -     INFO - mlb_pipeline - Combined predictions saved to /Users/ebodshojaei/Documents/Development/projects/google-cloud-hackathon-2025/boba-services/google-automl/data/predicting/mlb_test_predictions.csv\n",
      "INFO:mlb_pipeline:Combined predictions saved to /Users/ebodshojaei/Documents/Development/projects/google-cloud-hackathon-2025/boba-services/google-automl/data/predicting/mlb_test_predictions.csv\n",
      "2025-02-04 11:42:08,748 -     INFO - mlb_pipeline - Processed predictions saved to /Users/ebodshojaei/Documents/Development/projects/google-cloud-hackathon-2025/boba-services/google-automl/data/predicting/mlb_test_with_predictions_vertex.csv\n",
      "2025-02-04 11:42:08,748 -     INFO - mlb_pipeline - Processed predictions saved to /Users/ebodshojaei/Documents/Development/projects/google-cloud-hackathon-2025/boba-services/google-automl/data/predicting/mlb_test_with_predictions_vertex.csv\n",
      "INFO:mlb_pipeline:Processed predictions saved to /Users/ebodshojaei/Documents/Development/projects/google-cloud-hackathon-2025/boba-services/google-automl/data/predicting/mlb_test_with_predictions_vertex.csv\n",
      "2025-02-04 11:42:08,802 -     INFO - mlb_pipeline - Searching for predictions in prefix: predicting/predictions/milb_predictions\n",
      "2025-02-04 11:42:08,802 -     INFO - mlb_pipeline - Searching for predictions in prefix: predicting/predictions/milb_predictions\n",
      "INFO:mlb_pipeline:Searching for predictions in prefix: predicting/predictions/milb_predictions\n",
      "2025-02-04 11:42:08,802 -     INFO - mlb_pipeline - Found 4 files\n",
      "2025-02-04 11:42:08,802 -     INFO - mlb_pipeline - Found 4 files\n",
      "INFO:mlb_pipeline:Found 4 files\n",
      "2025-02-04 11:42:08,803 -     INFO - mlb_pipeline - Found file: predicting/predictions/milb_predictions/prediction-MLB_Pitching_WAR_Model-2025_02_04T09_21_40_955Z/prediction.errors_stats-00000-of-00001\n",
      "2025-02-04 11:42:08,803 -     INFO - mlb_pipeline - Found file: predicting/predictions/milb_predictions/prediction-MLB_Pitching_WAR_Model-2025_02_04T09_21_40_955Z/prediction.errors_stats-00000-of-00001\n",
      "INFO:mlb_pipeline:Found file: predicting/predictions/milb_predictions/prediction-MLB_Pitching_WAR_Model-2025_02_04T09_21_40_955Z/prediction.errors_stats-00000-of-00001\n",
      "2025-02-04 11:42:08,803 -     INFO - mlb_pipeline - Found file: predicting/predictions/milb_predictions/prediction-MLB_Pitching_WAR_Model-2025_02_04T09_21_40_955Z/prediction.results-00000-of-00003\n",
      "2025-02-04 11:42:08,803 -     INFO - mlb_pipeline - Found file: predicting/predictions/milb_predictions/prediction-MLB_Pitching_WAR_Model-2025_02_04T09_21_40_955Z/prediction.results-00000-of-00003\n",
      "INFO:mlb_pipeline:Found file: predicting/predictions/milb_predictions/prediction-MLB_Pitching_WAR_Model-2025_02_04T09_21_40_955Z/prediction.results-00000-of-00003\n",
      "2025-02-04 11:42:08,804 -     INFO - mlb_pipeline - Found file: predicting/predictions/milb_predictions/prediction-MLB_Pitching_WAR_Model-2025_02_04T09_21_40_955Z/prediction.results-00001-of-00003\n",
      "2025-02-04 11:42:08,804 -     INFO - mlb_pipeline - Found file: predicting/predictions/milb_predictions/prediction-MLB_Pitching_WAR_Model-2025_02_04T09_21_40_955Z/prediction.results-00001-of-00003\n",
      "INFO:mlb_pipeline:Found file: predicting/predictions/milb_predictions/prediction-MLB_Pitching_WAR_Model-2025_02_04T09_21_40_955Z/prediction.results-00001-of-00003\n",
      "2025-02-04 11:42:08,804 -     INFO - mlb_pipeline - Found file: predicting/predictions/milb_predictions/prediction-MLB_Pitching_WAR_Model-2025_02_04T09_21_40_955Z/prediction.results-00002-of-00003\n",
      "2025-02-04 11:42:08,804 -     INFO - mlb_pipeline - Found file: predicting/predictions/milb_predictions/prediction-MLB_Pitching_WAR_Model-2025_02_04T09_21_40_955Z/prediction.results-00002-of-00003\n",
      "INFO:mlb_pipeline:Found file: predicting/predictions/milb_predictions/prediction-MLB_Pitching_WAR_Model-2025_02_04T09_21_40_955Z/prediction.results-00002-of-00003\n",
      "2025-02-04 11:42:08,805 -     INFO - mlb_pipeline - No direct CSV file found. Combining partitioned prediction result files...\n",
      "2025-02-04 11:42:08,805 -     INFO - mlb_pipeline - No direct CSV file found. Combining partitioned prediction result files...\n",
      "INFO:mlb_pipeline:No direct CSV file found. Combining partitioned prediction result files...\n",
      "2025-02-04 11:42:09,309 -     INFO - mlb_pipeline - Combined predictions saved to /Users/ebodshojaei/Documents/Development/projects/google-cloud-hackathon-2025/boba-services/google-automl/data/predicting/milb_predictions.csv\n",
      "2025-02-04 11:42:09,309 -     INFO - mlb_pipeline - Combined predictions saved to /Users/ebodshojaei/Documents/Development/projects/google-cloud-hackathon-2025/boba-services/google-automl/data/predicting/milb_predictions.csv\n",
      "INFO:mlb_pipeline:Combined predictions saved to /Users/ebodshojaei/Documents/Development/projects/google-cloud-hackathon-2025/boba-services/google-automl/data/predicting/milb_predictions.csv\n",
      "2025-02-04 11:42:09,448 -    ERROR - mlb_pipeline - Error processing predictions: Cannot set a DataFrame with multiple columns to the single column row_key\n",
      "2025-02-04 11:42:09,448 -    ERROR - mlb_pipeline - Error processing predictions: Cannot set a DataFrame with multiple columns to the single column row_key\n",
      "ERROR:mlb_pipeline:Error processing predictions: Cannot set a DataFrame with multiple columns to the single column row_key\n"
     ]
    }
   ],
   "source": [
    "# Download the batch prediction results (MLB test data, MiLB predict data) \n",
    "# Join the WAR predictions to the original data (which includes the player.id and other metadata)"
   ]
  },
  {
   "cell_type": "code",
   "execution_count": 87,
   "metadata": {},
   "outputs": [
    {
     "name": "stderr",
     "output_type": "stream",
     "text": [
      "2025-02-04 11:42:12,652 -     INFO - mlb_pipeline - Vertex AI Model Metrics:\n",
      "2025-02-04 11:42:12,652 -     INFO - mlb_pipeline - Vertex AI Model Metrics:\n",
      "INFO:mlb_pipeline:Vertex AI Model Metrics:\n",
      "2025-02-04 11:42:12,653 -     INFO - mlb_pipeline - R²: 97.53%\n",
      "2025-02-04 11:42:12,653 -     INFO - mlb_pipeline - R²: 97.53%\n",
      "INFO:mlb_pipeline:R²: 97.53%\n",
      "2025-02-04 11:42:12,654 -     INFO - mlb_pipeline - Busts: 161 (10.52%)\n",
      "2025-02-04 11:42:12,654 -     INFO - mlb_pipeline - Busts: 161 (10.52%)\n",
      "INFO:mlb_pipeline:Busts: 161 (10.52%)\n"
     ]
    }
   ],
   "source": [
    "# Evaluate the Vertex AI model on the MLB testing data"
   ]
  },
  {
   "cell_type": "code",
   "execution_count": 75,
   "metadata": {},
   "outputs": [
    {
     "name": "stderr",
     "output_type": "stream",
     "text": [
      "2025-02-04 11:37:09,672 -     INFO - mlb_pipeline - Vertex AI histogram saved to /Users/ebodshojaei/Documents/Development/projects/google-cloud-hackathon-2025/boba-services/google-automl/data/hosted/bwar_histogram.png\n",
      "2025-02-04 11:37:09,672 -     INFO - mlb_pipeline - Vertex AI histogram saved to /Users/ebodshojaei/Documents/Development/projects/google-cloud-hackathon-2025/boba-services/google-automl/data/hosted/bwar_histogram.png\n",
      "INFO:mlb_pipeline:Vertex AI histogram saved to /Users/ebodshojaei/Documents/Development/projects/google-cloud-hackathon-2025/boba-services/google-automl/data/hosted/bwar_histogram.png\n",
      "2025-02-04 11:37:09,675 -     INFO - mlb_pipeline - Model Ranking:\n",
      "2025-02-04 11:37:09,675 -     INFO - mlb_pipeline - Model Ranking:\n",
      "INFO:mlb_pipeline:Model Ranking:\n",
      "2025-02-04 11:37:09,676 -     INFO - mlb_pipeline - \n",
      "    model  R_squared  Busts  Percent_Busts\n",
      "Vertex AI   0.975265    161      10.522876\n",
      "2025-02-04 11:37:09,676 -     INFO - mlb_pipeline - \n",
      "    model  R_squared  Busts  Percent_Busts\n",
      "Vertex AI   0.975265    161      10.522876\n",
      "INFO:mlb_pipeline:\n",
      "    model  R_squared  Busts  Percent_Busts\n",
      "Vertex AI   0.975265    161      10.522876\n",
      "2025-02-04 11:37:09,677 -     INFO - mlb_pipeline - Model rankings saved to /Users/ebodshojaei/Documents/Development/projects/google-cloud-hackathon-2025/boba-services/google-automl/data/hosted/model_rankings.csv\n",
      "2025-02-04 11:37:09,677 -     INFO - mlb_pipeline - Model rankings saved to /Users/ebodshojaei/Documents/Development/projects/google-cloud-hackathon-2025/boba-services/google-automl/data/hosted/model_rankings.csv\n",
      "INFO:mlb_pipeline:Model rankings saved to /Users/ebodshojaei/Documents/Development/projects/google-cloud-hackathon-2025/boba-services/google-automl/data/hosted/model_rankings.csv\n"
     ]
    }
   ],
   "source": [
    "# Save the model evaluation metrics to a CSV file\n",
    "# Save the error distribution plot to a PNG file"
   ]
  }
 ],
 "metadata": {
  "kernelspec": {
   "display_name": "mlb_env",
   "language": "python",
   "name": "python3"
  },
  "language_info": {
   "name": "python",
   "version": "3.11.4"
  }
 },
 "nbformat": 4,
 "nbformat_minor": 2
}
